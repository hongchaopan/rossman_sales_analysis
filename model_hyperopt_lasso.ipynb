{
 "cells": [
  {
   "cell_type": "code",
   "execution_count": 1,
   "metadata": {
    "collapsed": false
   },
   "outputs": [
    {
     "name": "stdout",
     "output_type": "stream",
     "text": [
      "The scikit-learn version is 0.17.1.\n",
      "The xgboost version is 0.6.\n"
     ]
    }
   ],
   "source": [
    "import pandas as pd\n",
    "import numpy as np  \n",
    "import matplotlib.pyplot as plt \n",
    "import matplotlib.dates \n",
    "import datetime\n",
    "import time\n",
    "import sklearn\n",
    "from sklearn import preprocessing\n",
    "from sklearn.grid_search import GridSearchCV\n",
    "from sklearn.metrics import make_scorer\n",
    "from sklearn.grid_search import ParameterGrid\n",
    "from sklearn.cross_validation import KFold\n",
    "from sklearn.ensemble import RandomForestRegressor\n",
    "from sklearn.cross_validation import train_test_split\n",
    "from sklearn import linear_model\n",
    "from sklearn import cross_validation\n",
    "import xgboost as xgb\n",
    "import rms_data\n",
    "import rms_eval\n",
    "import importlib\n",
    "from hyperopt import hp\n",
    "from hyperopt import fmin, tpe, hp, STATUS_OK, Trials\n",
    "%matplotlib inline\n",
    "import csv\n",
    "import sys\n",
    "print('The scikit-learn version is {}.'.format(sklearn.__version__))\n",
    "print('The xgboost version is {}.'.format(xgb.__version__))"
   ]
  },
  {
   "cell_type": "code",
   "execution_count": 2,
   "metadata": {
    "collapsed": false
   },
   "outputs": [
    {
     "data": {
      "text/plain": [
       "<module 'rms_data' from 'rms_data.pyc'>"
      ]
     },
     "execution_count": 2,
     "metadata": {},
     "output_type": "execute_result"
    }
   ],
   "source": [
    "#For python 2\n",
    "reload(rms_eval) #rmspe\n",
    "reload(rms_data) #performs one-hot-encoding"
   ]
  },
  {
   "cell_type": "code",
   "execution_count": 3,
   "metadata": {
    "collapsed": true
   },
   "outputs": [],
   "source": [
    "def load_data():\n",
    "    \n",
    "    #Read in files\n",
    "    print \"Reading in all three files\"\n",
    "    train = pd.read_csv('train.csv', low_memory=False)\n",
    "    store = pd.read_csv('store.csv', low_memory=False)\n",
    "    test = pd.read_csv('test.csv', low_memory=False)\n",
    "    \n",
    "    #Select only stores that are open and ?have sales more than 0\n",
    "    opened = train.Open==1\n",
    "    salesGT0 = train.Sales > 0\n",
    "    train = train[opened & salesGT0]\n",
    "    \n",
    "    #Join train and store data\n",
    "    train_store = pd.merge(train, store, on=\"Store\")\n",
    "    test_store = pd.merge(test, store, on=\"Store\")\n",
    "    \n",
    "    #One hot encoding\n",
    "    train_proc = rms_data.data_prep_v1(train_store)\n",
    "    test_proc = rms_data.data_prep_v1(test_store, False)\n",
    "    \n",
    "    #Store sales in another variable and drop it\n",
    "    tmp_y = train_proc.Sales\n",
    "    train_proc.drop('Sales', axis=1, inplace=True)\n",
    "    train_x = train_proc\n",
    "    train_y = tmp_y\n",
    "\n",
    "    #Fill in missing values with -1\n",
    "    train_x.fillna(-1, inplace=True) #because random forests cannot handle np.nan\n",
    "    test.fillna(-1, inplace=True)\n",
    "    \n",
    "    return train_x, train_y, test_proc"
   ]
  },
  {
   "cell_type": "code",
   "execution_count": 4,
   "metadata": {
    "collapsed": false
   },
   "outputs": [],
   "source": [
    "def score(params):\n",
    "    print \"Training with params : \"\n",
    "    print params\n",
    "\n",
    "    #Create custom scoring function\n",
    "    skl_rmspe_sqrt = make_scorer(rms_eval.rmspe_sqrt_skl, greater_is_better=True)\n",
    "\n",
    "    #Create lasso model\n",
    "    las = linear_model.Lasso(random_state=23497832)\n",
    "    \n",
    "    param_grid={'alpha': [params['alpha']]\n",
    "    }\n",
    "    \n",
    "    clf = GridSearchCV(las, param_grid, scoring=skl_rmspe_sqrt, n_jobs=1, cv=5, verbose=5)\n",
    "\n",
    "    clf.fit(X_train, y_train)\n",
    "\n",
    "    print(\"Best parameters set found on development set:\")\n",
    "    print(clf.best_params_)\n",
    "    print(\"Grid scores on development set:\")\n",
    "    for params, mean_score, scores in clf.grid_scores_:\n",
    "        print(\"%0.3f (+/-%0.03f) for %r\"\n",
    "              % (mean_score, scores.std() * 2, params))\n",
    "        writer.writerow([mean_score] + [scores.std() * 2] + list(params.values()))\n",
    "        o_f.flush()\n",
    "    \n",
    "    return {'loss': mean_score, 'status': STATUS_OK}\n"
   ]
  },
  {
   "cell_type": "code",
   "execution_count": 5,
   "metadata": {
    "collapsed": true
   },
   "outputs": [],
   "source": [
    "def optimize(trials):\n",
    "    space = {\n",
    "             #'max_depth': hp.choice('alpha', np.arange(10, 100, dtype=int))\n",
    "             'alpha' : hp.quniform('alpha', 0.0001, 0.001, 0.0001)\n",
    "             }\n",
    "\n",
    "    best = fmin(score, space, algo=tpe.suggest, trials=trials, max_evals=5)\n",
    "\n",
    "    print \"best parameters \", best"
   ]
  },
  {
   "cell_type": "code",
   "execution_count": 6,
   "metadata": {
    "collapsed": false
   },
   "outputs": [
    {
     "name": "stdout",
     "output_type": "stream",
     "text": [
      "Reading in all three files\n",
      "Training with params : \n",
      "{'alpha': 0.0001}\n",
      "Fitting 5 folds for each of 1 candidates, totalling 5 fits\n",
      "[CV] alpha=0.0001 ....................................................\n"
     ]
    },
    {
     "name": "stderr",
     "output_type": "stream",
     "text": [
      "C:\\Program Files\\Anaconda2420\\lib\\site-packages\\sklearn\\linear_model\\coordinate_descent.py:466: ConvergenceWarning: Objective did not converge. You might want to increase the number of iterations\n",
      "  ConvergenceWarning)\n"
     ]
    },
    {
     "name": "stdout",
     "output_type": "stream",
     "text": [
      "[CV] ........................... alpha=0.0001, score=0.464247 -  44.8s\n",
      "[CV] alpha=0.0001 ....................................................\n",
      "[CV] ........................... alpha=0.0001, score=0.566208 -  47.3s\n",
      "[CV] alpha=0.0001 ....................................................\n",
      "[CV] ........................... alpha=0.0001, score=0.496675 -  45.0s\n",
      "[CV] alpha=0.0001 ....................................................\n",
      "[CV] ........................... alpha=0.0001, score=0.463891 -  44.7s\n",
      "[CV] alpha=0.0001 ....................................................\n",
      "[CV] ........................... alpha=0.0001, score=0.464878 -  42.8s\n"
     ]
    },
    {
     "name": "stderr",
     "output_type": "stream",
     "text": [
      "[Parallel(n_jobs=1)]: Done   5 out of   5 | elapsed:  3.8min finished\n"
     ]
    },
    {
     "name": "stdout",
     "output_type": "stream",
     "text": [
      "Best parameters set found on development set:\n",
      "{'alpha': 0.0001}\n",
      "Grid scores on development set:\n",
      "0.491 (+/-0.079) for {'alpha': 0.0001}\n",
      "Training with params : \n",
      "{'alpha': 0.001}\n",
      "Fitting 5 folds for each of 1 candidates, totalling 5 fits\n",
      "[CV] alpha=0.001 .....................................................\n",
      "[CV] ............................ alpha=0.001, score=0.464515 -  34.1s\n",
      "[CV] alpha=0.001 .....................................................\n",
      "[CV] ............................ alpha=0.001, score=0.566374 -  32.2s\n",
      "[CV] alpha=0.001 .....................................................\n",
      "[CV] ............................ alpha=0.001, score=0.496889 -  33.6s\n",
      "[CV] alpha=0.001 .....................................................\n",
      "[CV] ............................ alpha=0.001, score=0.464064 -  32.5s\n",
      "[CV] alpha=0.001 .....................................................\n",
      "[CV] ............................ alpha=0.001, score=0.465175 -  31.8s\n"
     ]
    },
    {
     "name": "stderr",
     "output_type": "stream",
     "text": [
      "[Parallel(n_jobs=1)]: Done   5 out of   5 | elapsed:  2.7min finished\n"
     ]
    },
    {
     "name": "stdout",
     "output_type": "stream",
     "text": [
      "Best parameters set found on development set:\n",
      "{'alpha': 0.001}\n",
      "Grid scores on development set:\n",
      "0.491 (+/-0.079) for {'alpha': 0.001}\n",
      "Training with params : \n",
      "{'alpha': 0.0004}\n",
      "Fitting 5 folds for each of 1 candidates, totalling 5 fits\n",
      "[CV] alpha=0.0004 ....................................................\n",
      "[CV] ........................... alpha=0.0004, score=0.464381 -  42.4s\n",
      "[CV] alpha=0.0004 ....................................................\n",
      "[CV] ........................... alpha=0.0004, score=0.566280 -  44.2s\n",
      "[CV] alpha=0.0004 ....................................................\n",
      "[CV] ........................... alpha=0.0004, score=0.496754 -  44.7s\n",
      "[CV] alpha=0.0004 ....................................................\n",
      "[CV] ........................... alpha=0.0004, score=0.463944 -  42.7s\n",
      "[CV] alpha=0.0004 ....................................................\n",
      "[CV] ........................... alpha=0.0004, score=0.464995 -  41.9s\n"
     ]
    },
    {
     "name": "stderr",
     "output_type": "stream",
     "text": [
      "[Parallel(n_jobs=1)]: Done   5 out of   5 | elapsed:  3.6min finished\n"
     ]
    },
    {
     "name": "stdout",
     "output_type": "stream",
     "text": [
      "Best parameters set found on development set:\n",
      "{'alpha': 0.0004}\n",
      "Grid scores on development set:\n",
      "0.491 (+/-0.079) for {'alpha': 0.0004}\n",
      "Training with params : \n",
      "{'alpha': 0.0009000000000000001}\n",
      "Fitting 5 folds for each of 1 candidates, totalling 5 fits\n",
      "[CV] alpha=0.0009 ....................................................\n",
      "[CV] ........................... alpha=0.0009, score=0.464496 -  32.1s\n",
      "[CV] alpha=0.0009 ....................................................\n",
      "[CV] ........................... alpha=0.0009, score=0.566365 -  32.4s\n",
      "[CV] alpha=0.0009 ....................................................\n",
      "[CV] ........................... alpha=0.0009, score=0.496870 -  33.7s\n",
      "[CV] alpha=0.0009 ....................................................\n",
      "[CV] ........................... alpha=0.0009, score=0.464044 -  39.5s\n",
      "[CV] alpha=0.0009 ....................................................\n",
      "[CV] ........................... alpha=0.0009, score=0.465156 -  34.5s\n"
     ]
    },
    {
     "name": "stderr",
     "output_type": "stream",
     "text": [
      "[Parallel(n_jobs=1)]: Done   5 out of   5 | elapsed:  2.9min finished\n"
     ]
    },
    {
     "name": "stdout",
     "output_type": "stream",
     "text": [
      "Best parameters set found on development set:\n",
      "{'alpha': 0.0009000000000000001}\n",
      "Grid scores on development set:\n",
      "0.491 (+/-0.079) for {'alpha': 0.0009000000000000001}\n",
      "Training with params : \n",
      "{'alpha': 0.0005}\n",
      "Fitting 5 folds for each of 1 candidates, totalling 5 fits\n",
      "[CV] alpha=0.0005 ....................................................\n",
      "[CV] ........................... alpha=0.0005, score=0.464405 -  47.9s\n",
      "[CV] alpha=0.0005 ....................................................\n",
      "[CV] ........................... alpha=0.0005, score=0.566301 -  45.2s\n",
      "[CV] alpha=0.0005 ....................................................\n",
      "[CV] ........................... alpha=0.0005, score=0.496785 -  49.6s\n",
      "[CV] alpha=0.0005 ....................................................\n",
      "[CV] ........................... alpha=0.0005, score=0.463963 -  51.3s\n",
      "[CV] alpha=0.0005 ....................................................\n",
      "[CV] ........................... alpha=0.0005, score=0.465031 -  48.1s\n"
     ]
    },
    {
     "name": "stderr",
     "output_type": "stream",
     "text": [
      "[Parallel(n_jobs=1)]: Done   5 out of   5 | elapsed:  4.0min finished\n"
     ]
    },
    {
     "name": "stdout",
     "output_type": "stream",
     "text": [
      "Best parameters set found on development set:\n",
      "{'alpha': 0.0005}\n",
      "Grid scores on development set:\n",
      "0.491 (+/-0.079) for {'alpha': 0.0005}\n",
      "best parameters  {'alpha': 0.0001}\n"
     ]
    }
   ],
   "source": [
    "train_x, train_y, test_x = load_data()\n",
    "\n",
    "X_train, X_test, y_train, y_test = train_test_split(\n",
    "    train_x.values, train_y.values, test_size=0.15, random_state=1234)\n",
    "\n",
    "output_file = 'las_hyperopt_log.csv'\n",
    "headers = [ 'rmspe_mean', 'rmspe_std', 'alpha']\n",
    "o_f = open( output_file, 'wb' )\n",
    "writer = csv.writer( o_f )\n",
    "writer.writerow( headers )\n",
    "\n",
    "np.random.seed(23748)\n",
    "\n",
    "#Trials object where the history of search will be stored\n",
    "trials = Trials()\n",
    "\n",
    "optimize(trials)"
   ]
  },
  {
   "cell_type": "code",
   "execution_count": 7,
   "metadata": {
    "collapsed": false
   },
   "outputs": [
    {
     "data": {
      "text/html": [
       "<div>\n",
       "<table border=\"1\" class=\"dataframe\">\n",
       "  <thead>\n",
       "    <tr style=\"text-align: right;\">\n",
       "      <th></th>\n",
       "      <th>rmspe_mean</th>\n",
       "      <th>rmspe_std</th>\n",
       "      <th>alpha</th>\n",
       "    </tr>\n",
       "  </thead>\n",
       "  <tbody>\n",
       "    <tr>\n",
       "      <th>0</th>\n",
       "      <td>0.491646</td>\n",
       "      <td>0.079048</td>\n",
       "      <td>0.0098</td>\n",
       "    </tr>\n",
       "    <tr>\n",
       "      <th>1</th>\n",
       "      <td>0.491720</td>\n",
       "      <td>0.079121</td>\n",
       "      <td>0.0148</td>\n",
       "    </tr>\n",
       "    <tr>\n",
       "      <th>2</th>\n",
       "      <td>0.494349</td>\n",
       "      <td>0.080317</td>\n",
       "      <td>0.0782</td>\n",
       "    </tr>\n",
       "    <tr>\n",
       "      <th>3</th>\n",
       "      <td>0.494511</td>\n",
       "      <td>0.080459</td>\n",
       "      <td>0.0864</td>\n",
       "    </tr>\n",
       "    <tr>\n",
       "      <th>4</th>\n",
       "      <td>0.494552</td>\n",
       "      <td>0.080493</td>\n",
       "      <td>0.0884</td>\n",
       "    </tr>\n",
       "  </tbody>\n",
       "</table>\n",
       "</div>"
      ],
      "text/plain": [
       "   rmspe_mean  rmspe_std   alpha\n",
       "0    0.491646   0.079048  0.0098\n",
       "1    0.491720   0.079121  0.0148\n",
       "2    0.494349   0.080317  0.0782\n",
       "3    0.494511   0.080459  0.0864\n",
       "4    0.494552   0.080493  0.0884"
      ]
     },
     "execution_count": 7,
     "metadata": {},
     "output_type": "execute_result"
    }
   ],
   "source": [
    "cv_results = pd.read_csv('las_hyperopt_log_2.csv', low_memory=False)\n",
    "cv_results.head()"
   ]
  },
  {
   "cell_type": "code",
   "execution_count": 17,
   "metadata": {
    "collapsed": false
   },
   "outputs": [
    {
     "data": {
      "image/png": "[encoded data removed]",
      "text/plain": [
       "<matplotlib.figure.Figure at 0x202ecda0>"
      ]
     },
     "metadata": {},
     "output_type": "display_data"
    }
   ],
   "source": [
    "plt.figure(figsize=(8,6))\n",
    "plt.errorbar(cv_results[cv_results['alpha']<10].alpha, \n",
    "             cv_results[cv_results['alpha']<10].rmspe_mean, \n",
    "             cv_results[cv_results['alpha']<10].rmspe_std, linestyle='None', marker='o')\n",
    "plt.title('lasso regression')\n",
    "plt.xlabel('alpha')\n",
    "plt.ylabel('rmspe')\n",
    "plt.show()"
   ]
  },
  {
   "cell_type": "code",
   "execution_count": 18,
   "metadata": {
    "collapsed": false
   },
   "outputs": [
    {
     "data": {
      "image/png": "[encoded data removed]",
      "text/plain": [
       "<matplotlib.figure.Figure at 0x22059080>"
      ]
     },
     "metadata": {},
     "output_type": "display_data"
    }
   ],
   "source": [
    "plt.figure(figsize=(8,6))\n",
    "plt.errorbar(cv_results[cv_results['alpha']<1].alpha, \n",
    "             cv_results[cv_results['alpha']<1].rmspe_mean, \n",
    "             cv_results[cv_results['alpha']<1].rmspe_std, linestyle='None', marker='o')\n",
    "plt.title('lasso regression')\n",
    "plt.xlabel('alpha')\n",
    "plt.ylabel('rmspe')\n",
    "plt.show()"
   ]
  }
 ],
 "metadata": {
  "anaconda-cloud": {},
  "kernelspec": {
   "display_name": "Python [default]",
   "language": "python",
   "name": "python2"
  },
  "language_info": {
   "codemirror_mode": {
    "name": "ipython",
    "version": 2
   },
   "file_extension": ".py",
   "mimetype": "text/x-python",
   "name": "python",
   "nbconvert_exporter": "python",
   "pygments_lexer": "ipython2",
   "version": "2.7.12"
  }
 },
 "nbformat": 4,
 "nbformat_minor": 1
}
